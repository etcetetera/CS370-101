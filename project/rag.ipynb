{
 "cells": [
  {
   "cell_type": "markdown",
   "metadata": {},
   "source": [
    "# CS 370 101 Project: RAG\n",
    "Eugene Casuple<br>\n",
    "8 December 2024"
   ]
  },
  {
   "cell_type": "markdown",
   "metadata": {},
   "source": [
    "## Environment/Tooling"
   ]
  },
  {
   "cell_type": "markdown",
   "metadata": {},
   "source": [
    "<img src=\"envtooling.png\"/>"
   ]
  },
  {
   "cell_type": "markdown",
   "metadata": {},
   "source": [
    "## ETL"
   ]
  },
  {
   "cell_type": "code",
   "execution_count": null,
   "metadata": {},
   "outputs": [
    {
     "name": "stdout",
     "output_type": "stream",
     "text": [
      "https://wiki.ros.org/ROS/Introduction\n",
      "https://wiki.ros.org/ROS/Installation\n",
      "https://wiki.ros.org/ROS/StartGuide\n",
      "https://wiki.ros.org/ROS/Tutorials\n",
      "https://wiki.ros.org/Get%20Involved\n",
      "https://wiki.ros.org/Support\n",
      "https://wiki.ros.org/Quality\n",
      "https://wiki.ros.org/Distributions\n",
      "https://docs.nav2.org/getting_started/index.html\n",
      "https://docs.nav2.org/getting_started/index.html#running-the-example\n",
      "https://docs.nav2.org/getting_started/index.html#navigating\n",
      "https://docs.nav2.org/development_guides/build_docs/index.html\n",
      "https://docs.nav2.org/concepts/index.html\n",
      "https://docs.nav2.org/setup_guides/index.html\n",
      "https://moveit.picknik.ai/main/index.html\n",
      "https://moveit.picknik.ai/main/doc/tutorials/getting_started/getting_started.html\n",
      "https://moveit.picknik.ai/main/doc/tutorials/quickstart_in_rviz/quickstart_in_rviz_tutorial.html\n",
      "https://moveit.picknik.ai/main/doc/tutorials/your_first_project/your_first_project.html\n",
      "https://moveit.picknik.ai/main/doc/tutorials/visualizing_in_rviz/visualizing_in_rviz.html\n",
      "https://moveit.picknik.ai/main/doc/tutorials/planning_around_objects/planning_around_objects.html\n",
      "https://moveit.picknik.ai/main/doc/tutorials/pick_and_place_with_moveit_task_constructor/pick_and_place_with_moveit_task_constructor.html\n",
      "https://gazebosim.org/docs/all/getstarted/\n",
      "https://gazebosim.org/docs/all/building_robot/\n",
      "https://gazebosim.org/docs/all/moving_robot/\n",
      "https://gazebosim.org/docs/all/sdf_worlds/\n",
      "https://gazebosim.org/docs/all/sensors/\n",
      "https://gazebosim.org/docs/all/actors/\n"
     ]
    }
   ],
   "source": [
    "import json\n",
    "\n",
    "with open('raw_documents.json', 'r') as f:\n",
    "    data = json.load(f)\n",
    "\n",
    "    for item in data[\"artifact_data\"]:\n",
    "        if \"link\" in item:\n",
    "            print(item[\"link\"])"
   ]
  },
  {
   "cell_type": "markdown",
   "metadata": {},
   "source": [
    "## Featurization Pipelines"
   ]
  },
  {
   "cell_type": "markdown",
   "metadata": {},
   "source": [
    "output of pipeline shown in raw_documents.json\n",
    "<img src=\"featurization.png\"/>"
   ]
  },
  {
   "cell_type": "markdown",
   "metadata": {},
   "source": [
    "## App\n",
    "<img src=\"app.png\"/>"
   ]
  }
 ],
 "metadata": {
  "kernelspec": {
   "display_name": ".venv",
   "language": "python",
   "name": "python3"
  },
  "language_info": {
   "codemirror_mode": {
    "name": "ipython",
    "version": 3
   },
   "file_extension": ".py",
   "mimetype": "text/x-python",
   "name": "python",
   "nbconvert_exporter": "python",
   "pygments_lexer": "ipython3",
   "version": "3.11.9"
  }
 },
 "nbformat": 4,
 "nbformat_minor": 2
}
