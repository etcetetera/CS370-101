{
 "cells": [
  {
   "cell_type": "markdown",
   "metadata": {},
   "source": [
    "# Import Libraries"
   ]
  },
  {
   "cell_type": "code",
   "execution_count": null,
   "metadata": {},
   "outputs": [],
   "source": [
    "%pip install tensorflow\n",
    "%pip install tensorflow_hub\n",
    "%pip install Js2Py"
   ]
  },
  {
   "cell_type": "code",
   "execution_count": null,
   "metadata": {},
   "outputs": [],
   "source": [
    "import os\n",
    "import pathlib\n",
    "import cv2\n",
    "import PIL\n",
    "\n",
    "import matplotlib\n",
    "import matplotlib.pyplot as plt\n",
    "\n",
    "import io\n",
    "import scipy.misc\n",
    "import numpy as np\n",
    "from six import BytesIO\n",
    "from PIL import Image, ImageDraw, ImageFont\n",
    "\n",
    "import tensorflow as tf\n",
    "import tensorflow_hub as hub\n",
    "\n",
    "from IPython.display import display, Javascript\n",
    "from js2py import eval_js\n",
    "from base64 import b64decode, b64encode\n",
    "import html\n",
    "import time"
   ]
  },
  {
   "cell_type": "markdown",
   "metadata": {},
   "source": [
    "# Install TensorFlow Object Detection API"
   ]
  },
  {
   "cell_type": "code",
   "execution_count": null,
   "metadata": {},
   "outputs": [],
   "source": [
    "\n",
    "%%bash\n",
    "# Clone the tensorflow models repository\n",
    "git clone --depth 1 https://github.com/tensorflow/models\n",
    "\n",
    "# API Installation\n",
    "sudo apt install -y protobuf-compiler\n",
    "cd models/research\n",
    "protoc object_detection/protos/*.proto --python_out=.\n",
    "cp object_detection/packages/tf2/setup.py .\n",
    "python -m pip install ."
   ]
  },
  {
   "cell_type": "code",
   "execution_count": null,
   "metadata": {},
   "outputs": [],
   "source": [
    "%cd models/research\n",
    "# Test the installation.\n",
    "''' If the output shows, [OK] then we're good to go'''\n",
    "!python object_detection/builders/model_builder_tf2_test.py"
   ]
  },
  {
   "cell_type": "code",
   "execution_count": null,
   "metadata": {},
   "outputs": [],
   "source": [
    "from object_detection.utils import label_map_util\n",
    "from object_detection.utils import visualization_utils as viz_utils\n",
    "from object_detection.utils import ops as utils_ops\n",
    "\n",
    "%matplotlib inline"
   ]
  },
  {
   "cell_type": "code",
   "execution_count": null,
   "metadata": {},
   "outputs": [],
   "source": [
    "%pip install protobuf\n",
    "!sudo apt-get update\n",
    "!sudo apt-get install protobuf-compiler\n",
    "!protoc object_detection/protos/*.proto --python_out=."
   ]
  },
  {
   "cell_type": "markdown",
   "metadata": {},
   "source": [
    "# Get video"
   ]
  },
  {
   "cell_type": "code",
   "execution_count": null,
   "metadata": {},
   "outputs": [],
   "source": [
    "\n",
    "# Run the function, get the video path as saved in your notebook, and play it back here.\n",
    "from IPython.display import HTML\n",
    "from base64 import b64encode\n",
    "\n",
    "video_width = 300\n",
    "\n",
    "# Capture video and save\n",
    "video_path = \"video.mp4\"\n",
    "\n",
    "# Play captured video\n",
    "video_file = open(video_path, \"r+b\").read()\n",
    "video_url = f\"data:video/mp4;base64,{b64encode(video_file).decode()}\"\n",
    "HTML(f\"\"\"\"\"\")"
   ]
  },
  {
   "cell_type": "markdown",
   "metadata": {},
   "source": [
    "# Detector Function"
   ]
  },
  {
   "cell_type": "code",
   "execution_count": null,
   "metadata": {},
   "outputs": [],
   "source": [
    "def run_inference_for_single_image(model, image, live_cam):\n",
    "\n",
    "    # convert image into numpy\n",
    "    image = np.asarray(image)\n",
    "    #print('Converted image into numpy type:', type(image))\n",
    "\n",
    "    # The input needs to be a tensor, convert it using `tf.convert_to_tensor`.\n",
    "    input_tensor = tf.convert_to_tensor(image)\n",
    "    #print('Converted numpy into tensor format:', input_tensor)\n",
    "\n",
    "    # The model expects a batch of images, so add an axis with `tf.newaxis`.\n",
    "    input_tensor = input_tensor[tf.newaxis,...]\n",
    "\n",
    "    # Run inference\n",
    "    if not live_cam:\n",
    "      start_time = time.time()\n",
    "      output_dict = model(input_tensor)\n",
    "      end_time = time.time()\n",
    "      print(f\"Inference time: {np.ceil(end_time-start_time)} seconds per frame\")\n",
    "\n",
    "    output_dict = model(input_tensor)\n",
    "    num_detections = int(output_dict.pop('num_detections')) # 300\n",
    "\n",
    "    # All outputs are batches tensors.\n",
    "    # Convert to numpy arrays, and take index [0] to remove the batch dimension.\n",
    "    # We're only interested in the first num_detections.\n",
    "\n",
    "    output_dict = {key: value[0, :num_detections].numpy()\n",
    "                   for key, value in output_dict.items()}\n",
    "\n",
    "    output_dict['num_detections'] = num_detections\n",
    "\n",
    "    # detection_classes should be ints.\n",
    "    output_dict['detection_classes'] = output_dict['detection_classes'].astype(np.int64)\n",
    "\n",
    "    return output_dict\n",
    "\n",
    "def run_inference_video(model, video_path, live_cam):\n",
    "  cap = cv2.VideoCapture(video_path)\n",
    "  if cap.isOpened():\n",
    "      width = int(cap.get(cv2.CAP_PROP_FRAME_WIDTH))\n",
    "      height = int(cap.get(cv2.CAP_PROP_FRAME_HEIGHT))\n",
    "      res=(int(width), int(height))\n",
    "\n",
    "      # save detected video\n",
    "      # Initialize our video writer\n",
    "      fourcc = cv2.VideoWriter_fourcc(*\"XVID\") #codec\n",
    "      out = cv2.VideoWriter('../../detected_output.avi', fourcc, 20.0, res)\n",
    "      frame = None\n",
    "\n",
    "      while True:\n",
    "          try:\n",
    "              is_success, image_np = cap.read()\n",
    "          except cv2.error:\n",
    "              continue\n",
    "\n",
    "          if not is_success:\n",
    "              break\n",
    "\n",
    "          # Actual detection.\n",
    "          output_dict = run_inference_for_single_image(model, image_np, live_cam)\n",
    "\n",
    "          # Visualization of the results of a detection.\n",
    "          viz_utils.visualize_boxes_and_labels_on_image_array(\n",
    "              image_np,\n",
    "              output_dict['detection_boxes'],\n",
    "              output_dict['detection_classes'],\n",
    "              output_dict['detection_scores'],\n",
    "              category_index,\n",
    "              instance_masks=output_dict.get('detection_masks_reframed', None),\n",
    "              use_normalized_coordinates=True,\n",
    "              line_thickness=8)\n",
    "\n",
    "          out.write(image_np)\n",
    "\n",
    "      out.release()\n",
    "\n",
    "      # OPTIONAL: show last image\n",
    "      if frame:\n",
    "        cv2_imshow(frame)\n",
    "\n",
    "  cap.release()\n",
    "\n",
    "def run_inference_in_anaconda(model):\n",
    "  \"\"\" Function for Inferencing live video in anaconda environment \"\"\"\n",
    "  cap = cv2.VideoCapture(0)\n",
    "  while cap.isOpened():\n",
    "      ret, image_np = cap.read()\n",
    "\n",
    "      # Actual detection.\n",
    "      output_dict = run_inference_for_single_image(model, image_np, None)\n",
    "\n",
    "      # Visualization of the results of a detection.\n",
    "      viz_utils.visualize_boxes_and_labels_on_image_array(\n",
    "          image_np,\n",
    "          output_dict['detection_boxes'],\n",
    "          output_dict['detection_classes'],\n",
    "          output_dict['detection_scores'],\n",
    "          category_index,\n",
    "          instance_masks=output_dict.get('detection_masks_reframed', None),\n",
    "          use_normalized_coordinates=True,\n",
    "          line_thickness=8)\n",
    "\n",
    "      cv2.imshow('object_detection', cv2.resize(image_np, (800, 600)))\n",
    "\n",
    "      if cv2.waitKey(1) == ord('q'):\n",
    "          writer.write(image_np)\n",
    "          writer.release()\n",
    "          cap.release()\n",
    "          cv2.destroyAllWindows()\n",
    "          break"
   ]
  },
  {
   "cell_type": "code",
   "execution_count": null,
   "metadata": {},
   "outputs": [],
   "source": [
    "PATH_TO_LABELS = 'object_detection/data/mscoco_label_map.pbtxt'\n",
    "category_index = label_map_util.create_category_index_from_labelmap(PATH_TO_LABELS, use_display_name=True)\n",
    "\n",
    "model_handle = 'https://tfhub.dev/tensorflow/faster_rcnn/resnet50_v1_640x640/1'\n",
    "\n",
    "print('loading model...')\n",
    "hub_model = hub.load(model_handle)\n",
    "print('model loaded!')\n"
   ]
  }
 ],
 "metadata": {
  "kernelspec": {
   "display_name": ".venv",
   "language": "python",
   "name": "python3"
  },
  "language_info": {
   "codemirror_mode": {
    "name": "ipython",
    "version": 3
   },
   "file_extension": ".py",
   "mimetype": "text/x-python",
   "name": "python",
   "nbconvert_exporter": "python",
   "pygments_lexer": "ipython3",
   "version": "3.11.9"
  }
 },
 "nbformat": 4,
 "nbformat_minor": 2
}
