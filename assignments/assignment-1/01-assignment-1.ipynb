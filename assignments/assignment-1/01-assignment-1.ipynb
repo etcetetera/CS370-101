{
 "cells": [
  {
   "cell_type": "markdown",
   "metadata": {},
   "source": [
    "# Development Environment Setup\n",
    "![](./repo_terminal.png)"
   ]
  }
 ],
 "metadata": {
  "language_info": {
   "name": "python"
  }
 },
 "nbformat": 4,
 "nbformat_minor": 2
}
