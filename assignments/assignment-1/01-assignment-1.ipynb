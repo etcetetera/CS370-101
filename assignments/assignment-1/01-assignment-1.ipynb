{
 "cells": [
  {
   "cell_type": "markdown",
   "metadata": {},
   "source": [
    "# Development Environment Setup\n",
    "![](./repo_terminal.png)\n",
    "![](./venv.png)"
   ]
  }
 ],
 "metadata": {
  "language_info": {
   "name": "python"
  }
 },
 "nbformat": 4,
 "nbformat_minor": 2
}
